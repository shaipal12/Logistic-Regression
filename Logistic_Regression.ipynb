{
  "nbformat": 4,
  "nbformat_minor": 0,
  "metadata": {
    "colab": {
      "provenance": []
    },
    "kernelspec": {
      "name": "python3",
      "display_name": "Python 3"
    },
    "language_info": {
      "name": "python"
    }
  },
  "cells": [
    {
      "cell_type": "code",
      "source": [
        "import numpy as np\n",
        "import pandas as pd\n",
        "import matplotlib.pyplot as plt\n",
        "import seaborn as sns\n",
        "from sklearn.datasets import make_classification\n",
        "from sklearn.model_selection import train_test_split, GridSearchCV\n",
        "from sklearn.model_selection import StratifiedKFold, cross_val_score\n",
        "from sklearn.preprocessing import StandardScaler\n",
        "from sklearn.linear_model import LogisticRegression\n",
        "from sklearn.metrics import accuracy_score, roc_auc_score, cohen_kappa_score, precision_recall_curve, auc\n",
        "from sklearn.datasets import load_iris\n",
        "from sklearn.metrics import confusion_matrix, classification_report\n",
        "from sklearn.metrics import precision_score, recall_score, f1_score\n",
        "from sklearn.utils import class_weight\n",
        "from sklearn.impute import SimpleImputer\n",
        "from sklearn.pipeline import Pipeline\n",
        "from sklearn.compose import ColumnTransformer\n",
        "from sklearn.preprocessing import OneHotEncoder\n",
        "from sklearn.datasets import load_iris\n"
      ],
      "metadata": {
        "id": "Q6ItL3Byu4U3"
      },
      "execution_count": 21,
      "outputs": []
    },
    {
      "cell_type": "code",
      "source": [
        "# Write a Python program that loads a dataset, splits it into training and testing sets, applies Logistic Regression, and prints the model accuracy.\n",
        "# Load dataset (Iris dataset)\n",
        "iris = load_iris()\n",
        "X = iris.data  # Features\n",
        "y = (iris.target == 2).astype(int)  # Convert to binary classification (class 2 vs others)\n",
        "\n",
        "# Split dataset into training (80%) and testing (20%) sets\n",
        "X_train, X_test, y_train, y_test = train_test_split(X, y, test_size=0.2, random_state=42)\n",
        "\n",
        "# Standardize features (optional but recommended for Logistic Regression)\n",
        "scaler = StandardScaler()\n",
        "X_train = scaler.fit_transform(X_train)\n",
        "X_test = scaler.transform(X_test)\n",
        "\n",
        "# Train Logistic Regression model\n",
        "model = LogisticRegression()\n",
        "model.fit(X_train, y_train)\n",
        "\n",
        "# Predict on test set\n",
        "y_pred = model.predict(X_test)\n",
        "\n",
        "# Calculate accuracy\n",
        "accuracy = accuracy_score(y_test, y_pred)\n",
        "print(f\"Model Accuracy: {accuracy:.2f}\")"
      ],
      "metadata": {
        "colab": {
          "base_uri": "https://localhost:8080/"
        },
        "id": "4bIgGFk5ydDt",
        "outputId": "a9e0a417-0916-434e-a45a-13a7590d2dab"
      },
      "execution_count": 22,
      "outputs": [
        {
          "output_type": "stream",
          "name": "stdout",
          "text": [
            "Model Accuracy: 1.00\n"
          ]
        }
      ]
    },
    {
      "cell_type": "code",
      "source": [
        "# Write a Python program to apply L1 regularization (Lasso) on a dataset using LogisticRegression(penalty='l1') and print the model accuracy.\n",
        "\n",
        "# Generate a synthetic dataset\n",
        "X, y = make_classification(n_samples=1000, n_features=20, random_state=42)\n",
        "\n",
        "# Split data into training and testing sets\n",
        "X_train, X_test, y_train, y_test = train_test_split(X, y, test_size=0.2, random_state=42)\n",
        "\n",
        "# Standardize the features\n",
        "scaler = StandardScaler()\n",
        "X_train = scaler.fit_transform(X_train)\n",
        "X_test = scaler.transform(X_test)\n",
        "\n",
        "# Train Logistic Regression model with L1 penalty (Lasso)\n",
        "model = LogisticRegression(penalty='l1', solver='liblinear', C=1.0, random_state=42)\n",
        "model.fit(X_train, y_train)\n",
        "\n",
        "# Make predictions\n",
        "y_pred = model.predict(X_test)\n",
        "\n",
        "# Calculate accuracy\n",
        "accuracy = accuracy_score(y_test, y_pred)\n",
        "print(f'Model Accuracy: {accuracy:.4f}')"
      ],
      "metadata": {
        "colab": {
          "base_uri": "https://localhost:8080/"
        },
        "id": "uagCrWGc3-Ug",
        "outputId": "1fa20107-7fa1-4fd6-9518-9c48bad45e67"
      },
      "execution_count": 23,
      "outputs": [
        {
          "output_type": "stream",
          "name": "stdout",
          "text": [
            "Model Accuracy: 0.8550\n"
          ]
        }
      ]
    },
    {
      "cell_type": "code",
      "source": [
        "# Write a Python program to train Logistic Regression with L2 regularization (Ridge) using LogisticRegression(penalty='l2'). Print model accuracy and coefficients.\n",
        "X, y = make_classification(n_samples=1000, n_features=20, random_state=42)\n",
        "\n",
        "# Split data into training and testing sets\n",
        "X_train, X_test, y_train, y_test = train_test_split(X, y, test_size=0.2, random_state=42)\n",
        "\n",
        "# Standardize the features\n",
        "scaler = StandardScaler()\n",
        "X_train = scaler.fit_transform(X_train)\n",
        "X_test = scaler.transform(X_test)\n",
        "\n",
        "# Train Logistic Regression model with L2 penalty (Ridge)\n",
        "model = LogisticRegression(penalty='l2', solver='liblinear', C=1.0, random_state=42)\n",
        "model.fit(X_train, y_train)\n",
        "\n",
        "# Make predictions\n",
        "y_pred = model.predict(X_test)\n",
        "\n",
        "# Calculate accuracy\n",
        "accuracy = accuracy_score(y_test, y_pred)\n",
        "print(f'Model Accuracy: {accuracy:.4f}')\n",
        "\n",
        "# Print model coefficients\n",
        "print('Model Coefficients:', model.coef_)"
      ],
      "metadata": {
        "colab": {
          "base_uri": "https://localhost:8080/"
        },
        "id": "ANYgff9y4Xzw",
        "outputId": "03b2ee70-f410-4667-abd5-5811f05cff84"
      },
      "execution_count": 24,
      "outputs": [
        {
          "output_type": "stream",
          "name": "stdout",
          "text": [
            "Model Accuracy: 0.8550\n",
            "Model Coefficients: [[ 0.09313067 -0.57234579  0.22858796  0.10022439 -0.02330397  1.62784037\n",
            "  -0.0850261  -0.01814307 -0.02321708  0.00901688  0.20647711  0.44047538\n",
            "   0.03047508  0.13712753 -0.92389495  0.08010283  0.07022722 -0.14921618\n",
            "  -1.19160279  0.10917366]]\n"
          ]
        }
      ]
    },
    {
      "cell_type": "code",
      "source": [
        "# Write a Python program to train Logistic Regression with Elastic Net Regularization (penalty='elasticnet').\n",
        "# Generate a synthetic dataset\n",
        "X, y = make_classification(n_samples=1000, n_features=20, random_state=42)\n",
        "\n",
        "# Split data into training and testing sets\n",
        "X_train, X_test, y_train, y_test = train_test_split(X, y, test_size=0.2, random_state=42)\n",
        "\n",
        "# Standardize the features\n",
        "scaler = StandardScaler()\n",
        "X_train = scaler.fit_transform(X_train)\n",
        "X_test = scaler.transform(X_test)\n",
        "\n",
        "# Train Logistic Regression model with Elastic Net penalty\n",
        "model = LogisticRegression(penalty='elasticnet', solver='saga', l1_ratio=0.5, C=1.0, random_state=42)\n",
        "model.fit(X_train, y_train)\n",
        "\n",
        "# Make predictions\n",
        "y_pred = model.predict(X_test)\n",
        "\n",
        "# Calculate accuracy\n",
        "accuracy = accuracy_score(y_test, y_pred)\n",
        "print(f'Model Accuracy: {accuracy:.4f}')\n",
        "\n",
        "# Print model coefficients\n",
        "print('Model Coefficients:', model.coef_)\n"
      ],
      "metadata": {
        "colab": {
          "base_uri": "https://localhost:8080/"
        },
        "id": "Aci3eb3Y408m",
        "outputId": "4eb7015b-b9e5-4a28-e8ee-fa97b3713c28"
      },
      "execution_count": 25,
      "outputs": [
        {
          "output_type": "stream",
          "name": "stdout",
          "text": [
            "Model Accuracy: 0.8550\n",
            "Model Coefficients: [[ 0.08772963 -0.18558237  0.22361164  0.09430098 -0.01741445  1.8970713\n",
            "  -0.08039025 -0.01217671 -0.01652056  0.00435164  0.20118399  0.43742187\n",
            "   0.0253483   0.13111478 -0.68549696  0.07237994  0.06413238 -0.14336783\n",
            "  -1.19241539  0.10471421]]\n"
          ]
        },
        {
          "output_type": "stream",
          "name": "stderr",
          "text": [
            "/usr/local/lib/python3.11/dist-packages/sklearn/linear_model/_sag.py:348: ConvergenceWarning: The max_iter was reached which means the coef_ did not converge\n",
            "  warnings.warn(\n"
          ]
        }
      ]
    },
    {
      "cell_type": "code",
      "source": [
        "# Write a Python program to train a Logistic Regression model for multiclass classification using multi_class='ovr'.\n",
        "\n",
        "# Generate a synthetic dataset for multiclass classification\n",
        "X, y = make_classification(n_samples=1000, n_features=20, n_classes=3, n_informative=15, random_state=42)\n",
        "\n",
        "# Split data into training and testing sets\n",
        "X_train, X_test, y_train, y_test = train_test_split(X, y, test_size=0.2, random_state=42)\n",
        "\n",
        "# Standardize the features\n",
        "scaler = StandardScaler()\n",
        "X_train = scaler.fit_transform(X_train)\n",
        "X_test = scaler.transform(X_test)\n",
        "\n",
        "# Train Logistic Regression model for multiclass classification using one-vs-rest (OvR)\n",
        "model = LogisticRegression(penalty='elasticnet', solver='saga', l1_ratio=0.5, C=1.0, multi_class='ovr', random_state=42)\n",
        "model.fit(X_train, y_train)\n",
        "\n",
        "# Make predictions\n",
        "y_pred = model.predict(X_test)\n",
        "\n",
        "# Calculate accuracy\n",
        "accuracy = accuracy_score(y_test, y_pred)\n",
        "print(f'Model Accuracy: {accuracy:.4f}')\n",
        "\n",
        "# Print model coefficients\n",
        "print('Model Coefficients:', model.coef_)"
      ],
      "metadata": {
        "colab": {
          "base_uri": "https://localhost:8080/"
        },
        "id": "o2RAieCR5I27",
        "outputId": "81ecea93-e9ed-452d-98e2-aa1e42a71077"
      },
      "execution_count": 26,
      "outputs": [
        {
          "output_type": "stream",
          "name": "stdout",
          "text": [
            "Model Accuracy: 0.6050\n",
            "Model Coefficients: [[-5.45699970e-01  3.12580245e-01  0.00000000e+00  4.54118939e-01\n",
            "   4.18927229e-01 -2.47299816e-02  3.11987554e-02  1.23571505e-01\n",
            "   1.21256014e-01 -1.60504564e-02  8.04285072e-02 -7.35365243e-02\n",
            "  -6.20196212e-01 -2.39700588e-01 -7.35223208e-01  0.00000000e+00\n",
            "   4.10145650e-01  9.22613739e-02 -2.56893096e-01 -1.36101625e-01]\n",
            " [ 1.46762334e+00  2.56785389e-01 -2.25455138e-04 -1.01937832e+00\n",
            "   3.14366998e-01  1.04810805e-01  1.52393834e-01 -1.35283645e-01\n",
            "   3.72371294e-01  0.00000000e+00  3.57950867e-01  7.40472692e-02\n",
            "   2.12203283e-01  9.89482335e-02  2.38652095e-02 -1.22525988e-01\n",
            "   5.22487886e-01  1.03501248e-02  0.00000000e+00  4.46672898e-01]\n",
            " [-8.24640828e-01 -4.96068478e-01 -2.58012518e-01  2.89035205e-01\n",
            "  -5.37236829e-01 -7.53692739e-02 -3.64023900e-01  1.77821522e-02\n",
            "  -3.60381761e-01  3.86701301e-01 -4.99557518e-01  7.40597712e-02\n",
            "   3.00755696e-01  3.01274403e-01  2.53591009e-01  0.00000000e+00\n",
            "  -8.00700187e-01 -4.70225966e-02  4.42994238e-01  0.00000000e+00]]\n"
          ]
        },
        {
          "output_type": "stream",
          "name": "stderr",
          "text": [
            "/usr/local/lib/python3.11/dist-packages/sklearn/linear_model/_logistic.py:1256: FutureWarning: 'multi_class' was deprecated in version 1.5 and will be removed in 1.7. Use OneVsRestClassifier(LogisticRegression(..)) instead. Leave it to its default value to avoid this warning.\n",
            "  warnings.warn(\n",
            "/usr/local/lib/python3.11/dist-packages/sklearn/linear_model/_sag.py:348: ConvergenceWarning: The max_iter was reached which means the coef_ did not converge\n",
            "  warnings.warn(\n"
          ]
        }
      ]
    },
    {
      "cell_type": "code",
      "source": [
        "# Write a Python program to apply GridSearchCV to tune the hyperparameters (C and penalty) of Logistic Regression. Print the best parameters and accuracy.\n",
        "# Generate a synthetic dataset for multiclass classification\n",
        "X, y = make_classification(n_samples=1000, n_features=20, n_classes=3, n_informative=15, random_state=42)\n",
        "\n",
        "# Split data into training and testing sets\n",
        "X_train, X_test, y_train, y_test = train_test_split(X, y, test_size=0.2, random_state=42)\n",
        "\n",
        "# Standardize the features\n",
        "scaler = StandardScaler()\n",
        "X_train = scaler.fit_transform(X_train)\n",
        "X_test = scaler.transform(X_test)\n",
        "\n",
        "# Define hyperparameter grid\n",
        "param_grid = {\n",
        "    'C': [0.1, 1.0, 10.0],\n",
        "    'penalty': ['l1', 'l2', 'elasticnet'],\n",
        "    'l1_ratio': [0.5]  # Only relevant for elasticnet\n",
        "}\n",
        "\n",
        "# Train Logistic Regression model with GridSearchCV\n",
        "grid_search = GridSearchCV(LogisticRegression(solver='saga', multi_class='ovr', random_state=42), param_grid, cv=5, scoring='accuracy', n_jobs=-1)\n",
        "grid_search.fit(X_train, y_train)\n",
        "\n",
        "# Get the best parameters and best estimator\n",
        "best_params = grid_search.best_params_\n",
        "best_model = grid_search.best_estimator_\n",
        "\n",
        "# Make predictions using the best model\n",
        "y_pred = best_model.predict(X_test)\n",
        "\n",
        "# Calculate accuracy\n",
        "accuracy = accuracy_score(y_test, y_pred)\n",
        "print(f'Best Parameters: {best_params}')\n",
        "print(f'Model Accuracy: {accuracy:.4f}')\n",
        "\n",
        "# Print model coefficients\n",
        "print('Model Coefficients:', best_model.coef_)"
      ],
      "metadata": {
        "colab": {
          "base_uri": "https://localhost:8080/"
        },
        "id": "wOFbsak15Zio",
        "outputId": "519d4a58-d080-4354-9012-000093b7785f"
      },
      "execution_count": 27,
      "outputs": [
        {
          "output_type": "stream",
          "name": "stdout",
          "text": [
            "Best Parameters: {'C': 0.1, 'l1_ratio': 0.5, 'penalty': 'l2'}\n",
            "Model Accuracy: 0.6150\n",
            "Model Coefficients: [[-4.39493820e-01  3.04718635e-01  1.27041389e-01  4.33739258e-01\n",
            "   2.49808735e-01 -2.59508855e-02  1.32374387e-01  1.18234986e-01\n",
            "   1.56587088e-01 -2.35416095e-01  1.42239901e-01 -7.30417330e-02\n",
            "  -4.19365868e-01 -2.78151712e-01 -4.05151939e-01  2.39872584e-01\n",
            "   2.88434738e-01  1.56644647e-01 -2.70357313e-01 -2.83964771e-01]\n",
            " [ 1.21156340e+00  1.87674424e-01  7.87069338e-04 -7.79787115e-01\n",
            "   2.67829013e-01  8.92319522e-02  2.07675690e-01 -1.23811213e-01\n",
            "   3.06056694e-01 -6.40215731e-04  3.50290761e-01  5.98292758e-02\n",
            "   1.48003062e-01  7.43699782e-02  1.79129659e-01 -2.37069014e-01\n",
            "   4.07841892e-01 -4.84398911e-02 -7.21579289e-02  3.67186196e-01]\n",
            " [-6.94665548e-01 -4.20501777e-01 -1.92002864e-01  2.76295959e-01\n",
            "  -4.96875801e-01 -6.78061752e-02 -3.20348506e-01  1.37874890e-02\n",
            "  -2.94457582e-01  3.15980682e-01 -4.53981891e-01  7.13606710e-02\n",
            "   2.96370721e-01  2.72510978e-01  2.81525342e-01 -3.32050055e-03\n",
            "  -6.77820404e-01 -4.60188468e-02  3.48255764e-01 -3.59560040e-02]]\n"
          ]
        },
        {
          "output_type": "stream",
          "name": "stderr",
          "text": [
            "/usr/local/lib/python3.11/dist-packages/sklearn/linear_model/_logistic.py:1196: UserWarning: l1_ratio parameter is only used when penalty is 'elasticnet'. Got (penalty=l2)\n",
            "  warnings.warn(\n",
            "/usr/local/lib/python3.11/dist-packages/sklearn/linear_model/_logistic.py:1256: FutureWarning: 'multi_class' was deprecated in version 1.5 and will be removed in 1.7. Use OneVsRestClassifier(LogisticRegression(..)) instead. Leave it to its default value to avoid this warning.\n",
            "  warnings.warn(\n"
          ]
        }
      ]
    },
    {
      "cell_type": "code",
      "source": [
        "# Write a Python program to evaluate Logistic Regression using Stratified K-Fold Cross-Validation. Print the average accuracy.\n",
        "# Generate a synthetic dataset for multiclass classification\n",
        "X, y = make_classification(n_samples=1000, n_features=20, n_classes=3, n_informative=15, random_state=42)\n",
        "\n",
        "# Standardize the features\n",
        "scaler = StandardScaler()\n",
        "X = scaler.fit_transform(X)\n",
        "\n",
        "# Define Logistic Regression model\n",
        "model = LogisticRegression(solver='saga', multi_class='ovr', penalty='l2', C=1.0, random_state=42)\n",
        "\n",
        "# Perform Stratified K-Fold Cross-Validation\n",
        "skf = StratifiedKFold(n_splits=5, shuffle=True, random_state=42)\n",
        "scores = cross_val_score(model, X, y, cv=skf, scoring='accuracy')\n",
        "\n",
        "# Calculate average accuracy\n",
        "average_accuracy = np.mean(scores)\n",
        "print(f'Average Accuracy: {average_accuracy:.4f}')\n"
      ],
      "metadata": {
        "colab": {
          "base_uri": "https://localhost:8080/"
        },
        "id": "JzL-Fpt-6Va1",
        "outputId": "8dd4f0fe-2fde-40fe-c3fa-4d7221a5a08b"
      },
      "execution_count": 21,
      "outputs": [
        {
          "output_type": "stream",
          "name": "stdout",
          "text": [
            "Average Accuracy: 0.6720\n"
          ]
        },
        {
          "output_type": "stream",
          "name": "stderr",
          "text": [
            "/usr/local/lib/python3.11/dist-packages/sklearn/linear_model/_logistic.py:1256: FutureWarning: 'multi_class' was deprecated in version 1.5 and will be removed in 1.7. Use OneVsRestClassifier(LogisticRegression(..)) instead. Leave it to its default value to avoid this warning.\n",
            "  warnings.warn(\n",
            "/usr/local/lib/python3.11/dist-packages/sklearn/linear_model/_logistic.py:1256: FutureWarning: 'multi_class' was deprecated in version 1.5 and will be removed in 1.7. Use OneVsRestClassifier(LogisticRegression(..)) instead. Leave it to its default value to avoid this warning.\n",
            "  warnings.warn(\n",
            "/usr/local/lib/python3.11/dist-packages/sklearn/linear_model/_logistic.py:1256: FutureWarning: 'multi_class' was deprecated in version 1.5 and will be removed in 1.7. Use OneVsRestClassifier(LogisticRegression(..)) instead. Leave it to its default value to avoid this warning.\n",
            "  warnings.warn(\n",
            "/usr/local/lib/python3.11/dist-packages/sklearn/linear_model/_logistic.py:1256: FutureWarning: 'multi_class' was deprecated in version 1.5 and will be removed in 1.7. Use OneVsRestClassifier(LogisticRegression(..)) instead. Leave it to its default value to avoid this warning.\n",
            "  warnings.warn(\n",
            "/usr/local/lib/python3.11/dist-packages/sklearn/linear_model/_logistic.py:1256: FutureWarning: 'multi_class' was deprecated in version 1.5 and will be removed in 1.7. Use OneVsRestClassifier(LogisticRegression(..)) instead. Leave it to its default value to avoid this warning.\n",
            "  warnings.warn(\n"
          ]
        }
      ]
    },
    {
      "cell_type": "code",
      "source": [
        "# Write a Python program to apply RandomizedSearchCV for tuning hyperparameters (C, penalty, solver) in Logistic Regression. Print the best parameters and accuracy.\n",
        "# Load dataset from CSV file\n",
        "df = pd.read_csv('dataset.csv')\n",
        "\n",
        "# Assume the last column is the target variable\n",
        "y = df.iloc[:, -1]\n",
        "X = df.iloc[:, :-1]\n",
        "\n",
        "# Split data into training and testing sets\n",
        "X_train, X_test, y_train, y_test = train_test_split(X, y, test_size=0.2, random_state=42)\n",
        "\n",
        "# Standardize the features\n",
        "scaler = StandardScaler()\n",
        "X_train = scaler.fit_transform(X_train)\n",
        "X_test = scaler.transform(X_test)\n",
        "\n",
        "# Define hyperparameter grid\n",
        "param_dist = {\n",
        "    'C': np.logspace(-4, 4, 10),\n",
        "    'penalty': ['l1', 'l2', 'elasticnet', 'none'],\n",
        "    'solver': ['liblinear', 'saga'],\n",
        "    'l1_ratio': [0.5]  # Only relevant for elasticnet\n",
        "}\n",
        "\n",
        "# Train Logistic Regression model with RandomizedSearchCV\n",
        "random_search = RandomizedSearchCV(LogisticRegression(multi_class='ovr', random_state=42), param_distributions=param_dist, n_iter=20, cv=5, scoring='accuracy', random_state=42, n_jobs=-1)\n",
        "random_search.fit(X_train, y_train)\n",
        "\n",
        "# Get the best parameters and best estimator\n",
        "best_params = random_search.best_params_\n",
        "best_model = random_search.best_estimator_\n",
        "\n",
        "# Make predictions using the best model\n",
        "y_pred = best_model.predict(X_test)\n",
        "\n",
        "# Calculate accuracy\n",
        "accuracy = accuracy_score(y_test, y_pred)\n",
        "print(f'Best Parameters: {best_params}')\n",
        "print(f'Model Accuracy: {accuracy:.4f}')"
      ],
      "metadata": {
        "id": "GrfxLC9T7NlR"
      },
      "execution_count": null,
      "outputs": []
    },
    {
      "cell_type": "code",
      "source": [
        "# Write a Python program to implement One-vs-One (OvO) Multiclass Logistic Regression and print accuracy.\n",
        "# Load dataset from CSV file\n",
        "df = pd.read_csv('dataset.csv')\n",
        "\n",
        "# Assume the last column is the target variable\n",
        "y = df.iloc[:, -1]\n",
        "X = df.iloc[:, :-1]\n",
        "\n",
        "# Split data into training and testing sets\n",
        "X_train, X_test, y_train, y_test = train_test_split(X, y, test_size=0.2, random_state=42)\n",
        "\n",
        "# Standardize the features\n",
        "scaler = StandardScaler()\n",
        "X_train = scaler.fit_transform(X_train)\n",
        "X_test = scaler.transform(X_test)\n",
        "\n",
        "# Train Logistic Regression model for multiclass classification using One-vs-One (OvO)\n",
        "model = LogisticRegression(multi_class='ovo', solver='lbfgs', penalty='l2', C=1.0, random_state=42)\n",
        "model.fit(X_train, y_train)\n",
        "\n",
        "# Make predictions\n",
        "y_pred = model.predict(X_test)\n",
        "\n",
        "# Calculate accuracy\n",
        "accuracy = accuracy_score(y_test, y_pred)\n",
        "print(f'Model Accuracy: {accuracy:.4f}')"
      ],
      "metadata": {
        "id": "vTyw6LP37cfk"
      },
      "execution_count": null,
      "outputs": []
    },
    {
      "cell_type": "code",
      "source": [
        "# Write a Python program to train a Logistic Regression model and visualize the confusion matrix for binary classification.\n",
        "# Generate synthetic binary classification data\n",
        "X, y = make_classification(n_samples=1000, n_features=10, random_state=42)\n",
        "\n",
        "# Split the dataset into training and testing sets\n",
        "X_train, X_test, y_train, y_test = train_test_split(X, y, test_size=0.2, random_state=42)\n",
        "\n",
        "# Initialize and train the logistic regression model\n",
        "model = LogisticRegression()\n",
        "model.fit(X_train, y_train)\n",
        "\n",
        "# Make predictions\n",
        "y_pred = model.predict(X_test)\n",
        "\n",
        "# Compute confusion matrix\n",
        "cm = confusion_matrix(y_test, y_pred)\n",
        "\n",
        "# Visualize the confusion matrix\n",
        "plt.figure(figsize=(6, 4))\n",
        "sns.heatmap(cm, annot=True, fmt='d', cmap='Blues', xticklabels=['Negative', 'Positive'], yticklabels=['Negative', 'Positive'])\n",
        "plt.xlabel('Predicted Label')\n",
        "plt.ylabel('True Label')\n",
        "plt.title('Confusion Matrix')\n",
        "plt.show()\n",
        "\n",
        "# Print classification report\n",
        "print(classification_report(y_test, y_pred))"
      ],
      "metadata": {
        "colab": {
          "base_uri": "https://localhost:8080/",
          "height": 566
        },
        "id": "oLUCFg0p7o3h",
        "outputId": "65856f8f-18a1-4aad-d7ff-70eb851d0508"
      },
      "execution_count": 22,
      "outputs": [
        {
          "output_type": "display_data",
          "data": {
            "text/plain": [
              "<Figure size 600x400 with 2 Axes>"
            ],
            "image/png": "[encoded data removed]"
          },
          "metadata": {}
        },
        {
          "output_type": "stream",
          "name": "stdout",
          "text": [
            "              precision    recall  f1-score   support\n",
            "\n",
            "           0       0.79      0.84      0.82        89\n",
            "           1       0.87      0.82      0.84       111\n",
            "\n",
            "    accuracy                           0.83       200\n",
            "   macro avg       0.83      0.83      0.83       200\n",
            "weighted avg       0.83      0.83      0.83       200\n",
            "\n"
          ]
        }
      ]
    },
    {
      "cell_type": "code",
      "source": [
        "# Write a Python program to train a Logistic Regression model and evaluate its performance using Precision, Recall, and F1-Score.\n",
        "# Generate synthetic dataset\n",
        "np.random.seed(42)\n",
        "X = np.random.rand(1000, 5)\n",
        "y = np.random.randint(0, 2, 1000)\n",
        "\n",
        "# Split dataset into training and testing sets\n",
        "X_train, X_test, y_train, y_test = train_test_split(X, y, test_size=0.2, random_state=42)\n",
        "\n",
        "# Standardize features\n",
        "scaler = StandardScaler()\n",
        "X_train = scaler.fit_transform(X_train)\n",
        "X_test = scaler.transform(X_test)\n",
        "\n",
        "# Train Logistic Regression model\n",
        "model = LogisticRegression()\n",
        "model.fit(X_train, y_train)\n",
        "\n",
        "# Predict on test data\n",
        "y_pred = model.predict(X_test)\n",
        "\n",
        "# Evaluate model performance\n",
        "precision = precision_score(y_test, y_pred)\n",
        "recall = recall_score(y_test, y_pred)\n",
        "f1 = f1_score(y_test, y_pred)\n",
        "\n",
        "print(f\"Precision: {precision:.2f}\")\n",
        "print(f\"Recall: {recall:.2f}\")\n",
        "print(f\"F1-Score: {f1:.2f}\")"
      ],
      "metadata": {
        "colab": {
          "base_uri": "https://localhost:8080/"
        },
        "id": "PwTpYaIf88WH",
        "outputId": "0a3f7d2d-6f7e-4e38-b09d-6debce8cddc6"
      },
      "execution_count": 24,
      "outputs": [
        {
          "output_type": "stream",
          "name": "stdout",
          "text": [
            "Precision: 0.54\n",
            "Recall: 0.74\n",
            "F1-Score: 0.62\n"
          ]
        }
      ]
    },
    {
      "cell_type": "code",
      "source": [
        "# Write a Python program to train a Logistic Regression model on imbalanced data and apply class weights to improve model performance.\n",
        "# Generate synthetic imbalanced dataset\n",
        "np.random.seed(42)\n",
        "X = np.random.rand(1000, 5)\n",
        "y = np.random.choice([0, 1], size=1000, p=[0.9, 0.1])  # Imbalanced dataset\n",
        "\n",
        "# Split dataset into training and testing sets\n",
        "X_train, X_test, y_train, y_test = train_test_split(X, y, test_size=0.2, random_state=42)\n",
        "\n",
        "# Standardize features\n",
        "scaler = StandardScaler()\n",
        "X_train = scaler.fit_transform(X_train)\n",
        "X_test = scaler.transform(X_test)\n",
        "\n",
        "# Compute class weights\n",
        "weights = class_weight.compute_class_weight('balanced', classes=np.unique(y_train), y=y_train)\n",
        "class_weights = {i: weights[i] for i in range(len(weights))}\n",
        "\n",
        "# Train Logistic Regression model with class weights\n",
        "model = LogisticRegression(class_weight=class_weights)\n",
        "model.fit(X_train, y_train)\n",
        "\n",
        "# Predict on test data\n",
        "y_pred = model.predict(X_test)\n",
        "\n",
        "# Evaluate model performance\n",
        "precision = precision_score(y_test, y_pred)\n",
        "recall = recall_score(y_test, y_pred)\n",
        "f1 = f1_score(y_test, y_pred)\n",
        "\n",
        "print(f\"Precision: {precision:.2f}\")\n",
        "print(f\"Recall: {recall:.2f}\")\n",
        "print(f\"F1-Score: {f1:.2f}\")"
      ],
      "metadata": {
        "colab": {
          "base_uri": "https://localhost:8080/"
        },
        "id": "-LtgYvtt9aLM",
        "outputId": "d785ddfe-c5b2-4d59-9c60-cc808c1ff40f"
      },
      "execution_count": 26,
      "outputs": [
        {
          "output_type": "stream",
          "name": "stdout",
          "text": [
            "Precision: 0.08\n",
            "Recall: 0.41\n",
            "F1-Score: 0.13\n"
          ]
        }
      ]
    },
    {
      "cell_type": "code",
      "source": [
        "# # Load dataset\n",
        "iris = load_iris()\n",
        "X = iris.data  # Features\n",
        "y = (iris.target != 0).astype(int)  # Binary classification (Setosa vs. Non-Setosa)\n",
        "\n",
        "# Split dataset\n",
        "X_train, X_test, y_train, y_test = train_test_split(X, y, test_size=0.2, random_state=42)\n",
        "\n",
        "# Train Logistic Regression without scaling\n",
        "model = LogisticRegression()\n",
        "model.fit(X_train, y_train)\n",
        "y_pred = model.predict(X_test)\n",
        "accuracy_no_scaling = accuracy_score(y_test, y_pred)\n",
        "print(f\"Accuracy without scaling: {accuracy_no_scaling:.4f}\")\n",
        "\n",
        "# Apply Standardization\n",
        "scaler = StandardScaler()\n",
        "X_train_scaled = scaler.fit_transform(X_train)\n",
        "X_test_scaled = scaler.transform(X_test)\n",
        "\n",
        "# Train Logistic Regression with scaling\n",
        "model_scaled = LogisticRegression()\n",
        "model_scaled.fit(X_train_scaled, y_train)\n",
        "y_pred_scaled = model_scaled.predict(X_test_scaled)\n",
        "accuracy_with_scaling = accuracy_score(y_test, y_pred_scaled)\n",
        "print(f\"Accuracy with scaling: {accuracy_with_scaling:.4f}\")\n"
      ],
      "metadata": {
        "colab": {
          "base_uri": "https://localhost:8080/"
        },
        "id": "FaBVEtcroCyt",
        "outputId": "979d2a74-c95b-480b-d2cc-c0a2d6080e5b"
      },
      "execution_count": 4,
      "outputs": [
        {
          "output_type": "stream",
          "name": "stdout",
          "text": [
            "Accuracy without scaling: 1.0000\n",
            "Accuracy with scaling: 1.0000\n"
          ]
        }
      ]
    },
    {
      "cell_type": "code",
      "source": [
        "# Write a Python program to train Logistic Regression and evaluate its performance using ROC-AUC scor.\n",
        "# Load dataset\n",
        "iris = load_iris()\n",
        "X = iris.data  # Features\n",
        "y = (iris.target != 0).astype(int)  # Binary classification (Setosa vs. Non-Setosa)\n",
        "\n",
        "# Split dataset\n",
        "X_train, X_test, y_train, y_test = train_test_split(X, y, test_size=0.2, random_state=42)\n",
        "\n",
        "# Apply Standardization\n",
        "scaler = StandardScaler()\n",
        "X_train_scaled = scaler.fit_transform(X_train)\n",
        "X_test_scaled = scaler.transform(X_test)\n",
        "\n",
        "# Train Logistic Regression with scaling\n",
        "model_scaled = LogisticRegression()\n",
        "model_scaled.fit(X_train_scaled, y_train)\n",
        "y_pred_scaled = model_scaled.predict(X_test_scaled)\n",
        "y_pred_prob = model_scaled.predict_proba(X_test_scaled)[:, 1]\n",
        "\n",
        "# Evaluate model\n",
        "accuracy_with_scaling = accuracy_score(y_test, y_pred_scaled)\n",
        "roc_auc = roc_auc_score(y_test, y_pred_prob)\n",
        "\n",
        "print(f\"Accuracy with scaling: {accuracy_with_scaling:.4f}\")\n",
        "print(f\"ROC-AUC Score: {roc_auc:.4f}\")"
      ],
      "metadata": {
        "colab": {
          "base_uri": "https://localhost:8080/"
        },
        "id": "Ag1AkegEpZKU",
        "outputId": "ff561681-346a-46c5-a2ba-c4a6fe3bd289"
      },
      "execution_count": 7,
      "outputs": [
        {
          "output_type": "stream",
          "name": "stdout",
          "text": [
            "Accuracy with scaling: 1.0000\n",
            "ROC-AUC Score: 1.0000\n"
          ]
        }
      ]
    },
    {
      "cell_type": "code",
      "source": [
        "# Write a Python program to train Logistic Regression using a custom learning rate (C=0.5) and evaluate accuracy.\n",
        "# Load dataset\n",
        "iris = load_iris()\n",
        "X = iris.data  # Features\n",
        "y = (iris.target != 0).astype(int)  # Binary classification (Setosa vs. Non-Setosa)\n",
        "\n",
        "# Split dataset\n",
        "X_train, X_test, y_train, y_test = train_test_split(X, y, test_size=0.2, random_state=42)\n",
        "\n",
        "# Apply Standardization\n",
        "scaler = StandardScaler()\n",
        "X_train_scaled = scaler.fit_transform(X_train)\n",
        "X_test_scaled = scaler.transform(X_test)\n",
        "\n",
        "# Train Logistic Regression with custom learning rate (C=0.5)\n",
        "model_scaled = LogisticRegression(C=0.5)\n",
        "model_scaled.fit(X_train_scaled, y_train)\n",
        "y_pred_scaled = model_scaled.predict(X_test_scaled)\n",
        "y_pred_prob = model_scaled.predict_proba(X_test_scaled)[:, 1]\n",
        "\n",
        "# Evaluate model\n",
        "accuracy_with_scaling = accuracy_score(y_test, y_pred_scaled)\n",
        "roc_auc = roc_auc_score(y_test, y_pred_prob)\n",
        "\n",
        "print(f\"Accuracy with scaling (C=0.5): {accuracy_with_scaling:.4f}\")\n",
        "print(f\"ROC-AUC Score: {roc_auc:.4f}\")\n"
      ],
      "metadata": {
        "colab": {
          "base_uri": "https://localhost:8080/"
        },
        "id": "QWstCcEXpz-g",
        "outputId": "013635ca-e5d0-46d6-87e8-ad1ed35b1bbd"
      },
      "execution_count": 8,
      "outputs": [
        {
          "output_type": "stream",
          "name": "stdout",
          "text": [
            "Accuracy with scaling (C=0.5): 1.0000\n",
            "ROC-AUC Score: 1.0000\n"
          ]
        }
      ]
    },
    {
      "cell_type": "code",
      "source": [
        "# Write a Python program to train Logistic Regression and identify important features based on model coefficients.\n",
        "# Load dataset\n",
        "iris = load_iris()\n",
        "X = iris.data  # Features\n",
        "y = (iris.target != 0).astype(int)  # Binary classification (Setosa vs. Non-Setosa)\n",
        "\n",
        "# Split dataset\n",
        "X_train, X_test, y_train, y_test = train_test_split(X, y, test_size=0.2, random_state=42)\n",
        "\n",
        "# Apply Standardization\n",
        "scaler = StandardScaler()\n",
        "X_train_scaled = scaler.fit_transform(X_train)\n",
        "X_test_scaled = scaler.transform(X_test)\n",
        "\n",
        "# Train Logistic Regression with custom learning rate (C=0.5)\n",
        "model_scaled = LogisticRegression(C=0.5)\n",
        "model_scaled.fit(X_train_scaled, y_train)\n",
        "y_pred_scaled = model_scaled.predict(X_test_scaled)\n",
        "y_pred_prob = model_scaled.predict_proba(X_test_scaled)[:, 1]\n",
        "\n",
        "# Evaluate model\n",
        "accuracy_with_scaling = accuracy_score(y_test, y_pred_scaled)\n",
        "roc_auc = roc_auc_score(y_test, y_pred_prob)\n",
        "\n",
        "print(f\"Accuracy with scaling (C=0.5): {accuracy_with_scaling:.4f}\")\n",
        "print(f\"ROC-AUC Score: {roc_auc:.4f}\")\n",
        "\n",
        "# Identify important features\n",
        "feature_importance = pd.DataFrame({'Feature': iris.feature_names, 'Coefficient': model_scaled.coef_[0]})\n",
        "feature_importance = feature_importance.sort_values(by='Coefficient', ascending=False)\n",
        "print(\"\\nFeature Importance based on Coefficients:\")\n",
        "print(feature_importance)"
      ],
      "metadata": {
        "colab": {
          "base_uri": "https://localhost:8080/"
        },
        "id": "n6C0duinq1Wv",
        "outputId": "b0fb83d2-0ce1-4ab7-ccbf-3dc2c4fa3ac3"
      },
      "execution_count": 9,
      "outputs": [
        {
          "output_type": "stream",
          "name": "stdout",
          "text": [
            "Accuracy with scaling (C=0.5): 1.0000\n",
            "ROC-AUC Score: 1.0000\n",
            "\n",
            "Feature Importance based on Coefficients:\n",
            "             Feature  Coefficient\n",
            "2  petal length (cm)     1.402280\n",
            "3   petal width (cm)     1.298197\n",
            "0  sepal length (cm)     0.865919\n",
            "1   sepal width (cm)    -1.019791\n"
          ]
        }
      ]
    },
    {
      "cell_type": "code",
      "source": [
        "# Write a Python program to train Logistic Regression and evaluate its performance using Cohen’s Kappa Score.\n",
        "# Load dataset\n",
        "iris = load_iris()\n",
        "X = iris.data  # Features\n",
        "y = (iris.target != 0).astype(int)  # Binary classification (Setosa vs. Non-Setosa)\n",
        "\n",
        "# Split dataset\n",
        "X_train, X_test, y_train, y_test = train_test_split(X, y, test_size=0.2, random_state=42)\n",
        "\n",
        "# Apply Standardization\n",
        "scaler = StandardScaler()\n",
        "X_train_scaled = scaler.fit_transform(X_train)\n",
        "X_test_scaled = scaler.transform(X_test)\n",
        "\n",
        "# Train Logistic Regression with custom learning rate (C=0.5)\n",
        "model_scaled = LogisticRegression(C=0.5)\n",
        "model_scaled.fit(X_train_scaled, y_train)\n",
        "y_pred_scaled = model_scaled.predict(X_test_scaled)\n",
        "y_pred_prob = model_scaled.predict_proba(X_test_scaled)[:, 1]\n",
        "\n",
        "# Evaluate model\n",
        "accuracy_with_scaling = accuracy_score(y_test, y_pred_scaled)\n",
        "roc_auc = roc_auc_score(y_test, y_pred_prob)\n",
        "kappa_score = cohen_kappa_score(y_test, y_pred_scaled)\n",
        "\n",
        "print(f\"Accuracy with scaling (C=0.5): {accuracy_with_scaling:.4f}\")\n",
        "print(f\"ROC-AUC Score: {roc_auc:.4f}\")\n",
        "print(f\"Cohen's Kappa Score: {kappa_score:.4f}\")\n",
        "\n",
        "# Identify important features\n",
        "feature_importance = pd.DataFrame({'Feature': iris.feature_names, 'Coefficient': model_scaled.coef_[0]})\n",
        "feature_importance = feature_importance.sort_values(by='Coefficient', ascending=False)\n",
        "print(\"\\nFeature Importance based on Coefficients:\")\n",
        "print(feature_importance)"
      ],
      "metadata": {
        "colab": {
          "base_uri": "https://localhost:8080/"
        },
        "id": "guBKKte3rK5z",
        "outputId": "3022c10d-0a39-4117-beef-baa555946301"
      },
      "execution_count": 11,
      "outputs": [
        {
          "output_type": "stream",
          "name": "stdout",
          "text": [
            "Accuracy with scaling (C=0.5): 1.0000\n",
            "ROC-AUC Score: 1.0000\n",
            "Cohen's Kappa Score: 1.0000\n",
            "\n",
            "Feature Importance based on Coefficients:\n",
            "             Feature  Coefficient\n",
            "2  petal length (cm)     1.402280\n",
            "3   petal width (cm)     1.298197\n",
            "0  sepal length (cm)     0.865919\n",
            "1   sepal width (cm)    -1.019791\n"
          ]
        }
      ]
    },
    {
      "cell_type": "code",
      "source": [
        "# Write a Python program to train Logistic Regression and visualize the Precision-Recall Curve for binary classificatio.\n",
        "# Load dataset\n",
        "iris = load_iris()\n",
        "X = iris.data  # Features\n",
        "y = (iris.target != 0).astype(int)  # Binary classification (Setosa vs. Non-Setosa)\n",
        "\n",
        "# Split dataset\n",
        "X_train, X_test, y_train, y_test = train_test_split(X, y, test_size=0.2, random_state=42)\n",
        "\n",
        "# Apply Standardization\n",
        "scaler = StandardScaler()\n",
        "X_train_scaled = scaler.fit_transform(X_train)\n",
        "X_test_scaled = scaler.transform(X_test)\n",
        "\n",
        "# Train Logistic Regression with custom learning rate (C=0.5)\n",
        "model_scaled = LogisticRegression(C=0.5)\n",
        "model_scaled.fit(X_train_scaled, y_train)\n",
        "y_pred_scaled = model_scaled.predict(X_test_scaled)\n",
        "y_pred_prob = model_scaled.predict_proba(X_test_scaled)[:, 1]\n",
        "\n",
        "# Evaluate model\n",
        "accuracy_with_scaling = accuracy_score(y_test, y_pred_scaled)\n",
        "roc_auc = roc_auc_score(y_test, y_pred_prob)\n",
        "kappa_score = cohen_kappa_score(y_test, y_pred_scaled)\n",
        "\n",
        "print(f\"Accuracy with scaling (C=0.5): {accuracy_with_scaling:.4f}\")\n",
        "print(f\"ROC-AUC Score: {roc_auc:.4f}\")\n",
        "print(f\"Cohen's Kappa Score: {kappa_score:.4f}\")\n",
        "\n",
        "# Identify important features\n",
        "feature_importance = pd.DataFrame({'Feature': iris.feature_names, 'Coefficient': model_scaled.coef_[0]})\n",
        "feature_importance = feature_importance.sort_values(by='Coefficient', ascending=False)\n",
        "print(\"\\nFeature Importance based on Coefficients:\")\n",
        "print(feature_importance)\n",
        "\n",
        "# Plot Precision-Recall Curve\n",
        "precision, recall, _ = precision_recall_curve(y_test, y_pred_prob)\n",
        "pr_auc = auc(recall, precision)\n",
        "plt.figure()\n",
        "plt.plot(recall, precision, label=f'PR Curve (AUC = {pr_auc:.4f}')\n",
        "plt.xlabel('Recall')\n",
        "plt.ylabel('Precision')\n",
        "plt.title('Precision-Recall Curve')\n",
        "plt.legend()\n",
        "plt.show()"
      ],
      "metadata": {
        "colab": {
          "base_uri": "https://localhost:8080/",
          "height": 646
        },
        "id": "IzEwxTUCvRt2",
        "outputId": "f1e776fd-511a-4758-d253-7a16279df54c"
      },
      "execution_count": 13,
      "outputs": [
        {
          "output_type": "stream",
          "name": "stdout",
          "text": [
            "Accuracy with scaling (C=0.5): 1.0000\n",
            "ROC-AUC Score: 1.0000\n",
            "Cohen's Kappa Score: 1.0000\n",
            "\n",
            "Feature Importance based on Coefficients:\n",
            "             Feature  Coefficient\n",
            "2  petal length (cm)     1.402280\n",
            "3   petal width (cm)     1.298197\n",
            "0  sepal length (cm)     0.865919\n",
            "1   sepal width (cm)    -1.019791\n"
          ]
        },
        {
          "output_type": "display_data",
          "data": {
            "text/plain": [
              "<Figure size 640x480 with 1 Axes>"
            ],
            "image/png": "[encoded data removed]"
          },
          "metadata": {}
        }
      ]
    },
    {
      "cell_type": "code",
      "source": [
        "# Write a Python program to train Logistic Regression with different solvers (liblinear, saga, lbfgs) and compare their accuracy.\n",
        "from sklearn.datasets import load_breast_cancer\n",
        "# Load dataset\n",
        "data = load_breast_cancer()\n",
        "X, y = data.data, data.target\n",
        "\n",
        "# Split dataset into training and testing sets\n",
        "X_train, X_test, y_train, y_test = train_test_split(X, y, test_size=0.2, random_state=42)\n",
        "\n",
        "# Standardize features\n",
        "scaler = StandardScaler()\n",
        "X_train = scaler.fit_transform(X_train)\n",
        "X_test = scaler.transform(X_test)\n",
        "\n",
        "# Define solvers to compare\n",
        "solvers = ['liblinear', 'saga', 'lbfgs']\n",
        "results = {}\n",
        "\n",
        "# Train and evaluate models\n",
        "for solver in solvers:\n",
        "    model = LogisticRegression(solver=solver, max_iter=1000, random_state=42)\n",
        "    model.fit(X_train, y_train)\n",
        "    y_pred = model.predict(X_test)\n",
        "    accuracy = accuracy_score(y_test, y_pred)\n",
        "    results[solver] = accuracy\n",
        "    print(f\"Solver: {solver}, Accuracy: {accuracy:.4f}\")\n",
        "\n",
        "# Print summary of results\n",
        "print(\"\\nAccuracy comparison of different solvers:\")\n",
        "for solver, acc in results.items():\n",
        "    print(f\"{solver}: {acc:.4f}\")"
      ],
      "metadata": {
        "colab": {
          "base_uri": "https://localhost:8080/"
        },
        "id": "OqfxD2csv1v9",
        "outputId": "c8848016-1838-4fcd-ee1e-53ef6efeb4d6"
      },
      "execution_count": 14,
      "outputs": [
        {
          "output_type": "stream",
          "name": "stdout",
          "text": [
            "Solver: liblinear, Accuracy: 0.9737\n",
            "Solver: saga, Accuracy: 0.9737\n",
            "Solver: lbfgs, Accuracy: 0.9737\n",
            "\n",
            "Accuracy comparison of different solvers:\n",
            "liblinear: 0.9737\n",
            "saga: 0.9737\n",
            "lbfgs: 0.9737\n"
          ]
        }
      ]
    },
    {
      "cell_type": "code",
      "source": [
        "# Write a Python program to train Logistic Regression and evaluate its performance using Matthews Correlation Coefficient (MCC).\n",
        "from sklearn.metrics import matthews_corrcoef\n",
        "# Generate synthetic dataset\n",
        "X, y = make_classification(n_samples=1000, n_features=10, random_state=42)\n",
        "\n",
        "# Split into training and testing sets\n",
        "X_train, X_test, y_train, y_test = train_test_split(X, y, test_size=0.2, random_state=42)\n",
        "\n",
        "# Standardize features\n",
        "scaler = StandardScaler()\n",
        "X_train = scaler.fit_transform(X_train)\n",
        "X_test = scaler.transform(X_test)\n",
        "\n",
        "# Train Logistic Regression model\n",
        "model = LogisticRegression()\n",
        "model.fit(X_train, y_train)\n",
        "\n",
        "# Predict on test data\n",
        "y_pred = model.predict(X_test)\n",
        "\n",
        "# Compute Matthews Correlation Coefficient (MCC)\n",
        "mcc = matthews_corrcoef(y_test, y_pred)\n",
        "\n",
        "print(f\"Matthews Correlation Coefficient (MCC): {mcc:.4f}\")"
      ],
      "metadata": {
        "colab": {
          "base_uri": "https://localhost:8080/"
        },
        "id": "uQkwgnfCwm8T",
        "outputId": "074b7701-b918-4b9e-ca5d-e7ef421b227e"
      },
      "execution_count": 15,
      "outputs": [
        {
          "output_type": "stream",
          "name": "stdout",
          "text": [
            "Matthews Correlation Coefficient (MCC): 0.6593\n"
          ]
        }
      ]
    },
    {
      "cell_type": "code",
      "source": [
        "#  Write a Python program to train Logistic Regression on both raw and standardized data. Compare their accuracy to see the impact of feature scaling.\n",
        "# Load dataset\n",
        "data = load_breast_cancer()\n",
        "X = data.data\n",
        "y = data.target\n",
        "\n",
        "# Split the data into training and test sets\n",
        "X_train, X_test, y_train, y_test = train_test_split(X, y, test_size=0.2, random_state=42)\n",
        "\n",
        "# Train Logistic Regression on raw data\n",
        "model_raw = LogisticRegression(max_iter=1000)\n",
        "model_raw.fit(X_train, y_train)\n",
        "y_pred_raw = model_raw.predict(X_test)\n",
        "accuracy_raw = accuracy_score(y_test, y_pred_raw)\n",
        "\n",
        "# Standardize the features\n",
        "scaler = StandardScaler()\n",
        "X_train_scaled = scaler.fit_transform(X_train)\n",
        "X_test_scaled = scaler.transform(X_test)\n",
        "\n",
        "# Train Logistic Regression on standardized data\n",
        "model_scaled = LogisticRegression(max_iter=1000)\n",
        "model_scaled.fit(X_train_scaled, y_train)\n",
        "y_pred_scaled = model_scaled.predict(X_test_scaled)\n",
        "accuracy_scaled = accuracy_score(y_test, y_pred_scaled)\n",
        "\n",
        "# Print results\n",
        "print(f\"Accuracy on raw data: {accuracy_raw:.4f}\")\n",
        "print(f\"Accuracy on standardized data: {accuracy_scaled:.4f}\")"
      ],
      "metadata": {
        "colab": {
          "base_uri": "https://localhost:8080/"
        },
        "id": "FBiKyKPAw7MD",
        "outputId": "07b6ad3c-bc29-4313-e67d-6437ba39fe50"
      },
      "execution_count": 16,
      "outputs": [
        {
          "output_type": "stream",
          "name": "stdout",
          "text": [
            "Accuracy on raw data: 0.9561\n",
            "Accuracy on standardized data: 0.9737\n"
          ]
        },
        {
          "output_type": "stream",
          "name": "stderr",
          "text": [
            "/usr/local/lib/python3.11/dist-packages/sklearn/linear_model/_logistic.py:465: ConvergenceWarning: lbfgs failed to converge (status=1):\n",
            "STOP: TOTAL NO. of ITERATIONS REACHED LIMIT.\n",
            "\n",
            "Increase the number of iterations (max_iter) or scale the data as shown in:\n",
            "    https://scikit-learn.org/stable/modules/preprocessing.html\n",
            "Please also refer to the documentation for alternative solver options:\n",
            "    https://scikit-learn.org/stable/modules/linear_model.html#logistic-regression\n",
            "  n_iter_i = _check_optimize_result(\n"
          ]
        }
      ]
    },
    {
      "cell_type": "code",
      "source": [
        "# Write a Python program to train Logistic Regression and find the optimal C (regularization strength) using cross-validation.\n",
        "from sklearn.linear_model import LogisticRegressionCV\n",
        "# Load dataset\n",
        "iris = load_iris()\n",
        "X, y = iris.data, iris.target\n",
        "\n",
        "# Split data into training and testing sets\n",
        "X_train, X_test, y_train, y_test = train_test_split(X, y, test_size=0.2, random_state=42)\n",
        "\n",
        "# Standardize features\n",
        "scaler = StandardScaler()\n",
        "X_train = scaler.fit_transform(X_train)\n",
        "X_test = scaler.transform(X_test)\n",
        "\n",
        "# Train Logistic Regression with cross-validation\n",
        "log_reg_cv = LogisticRegressionCV(cv=5, Cs=10, random_state=42, multi_class='multinomial', max_iter=1000)\n",
        "log_reg_cv.fit(X_train, y_train)\n",
        "\n",
        "# Best C value\n",
        "best_c = log_reg_cv.C_[0]\n",
        "print(f\"Optimal C (Regularization Strength): {best_c}\")\n",
        "\n",
        "# Predictions and accuracy\n",
        "y_pred = log_reg_cv.predict(X_test)\n",
        "accuracy = accuracy_score(y_test, y_pred)\n",
        "print(f\"Test Accuracy: {accuracy:.4f}\")"
      ],
      "metadata": {
        "colab": {
          "base_uri": "https://localhost:8080/"
        },
        "id": "o-9ehqEBxRu-",
        "outputId": "2bd64826-644a-4b2e-f7f7-f8d86fe6808c"
      },
      "execution_count": 18,
      "outputs": [
        {
          "output_type": "stream",
          "name": "stderr",
          "text": [
            "/usr/local/lib/python3.11/dist-packages/sklearn/linear_model/_logistic.py:1908: FutureWarning: 'multi_class' was deprecated in version 1.5 and will be removed in 1.7. From then on, it will always use 'multinomial'. Leave it to its default value to avoid this warning.\n",
            "  warnings.warn(\n"
          ]
        },
        {
          "output_type": "stream",
          "name": "stdout",
          "text": [
            "Optimal C (Regularization Strength): 21.54434690031882\n",
            "Test Accuracy: 1.0000\n"
          ]
        }
      ]
    },
    {
      "cell_type": "code",
      "source": [
        "import joblib\n",
        "# Write a Python program to train Logistic Regression, save the trained model using joblib, and load it again to make predictions.\n",
        "# Generate synthetic dataset\n",
        "X, y = make_classification(n_samples=1000, n_features=10, random_state=42)\n",
        "\n",
        "# Split into training and testing sets\n",
        "X_train, X_test, y_train, y_test = train_test_split(X, y, test_size=0.2, random_state=42)\n",
        "\n",
        "# Train Logistic Regression model\n",
        "model = LogisticRegression()\n",
        "model.fit(X_train, y_train)\n",
        "\n",
        "# Save the trained model\n",
        "joblib.dump(model, 'logistic_regression_model.pkl')\n",
        "print(\"Model saved successfully.\")\n",
        "\n",
        "# Load the trained model\n",
        "loaded_model = joblib.load('logistic_regression_model.pkl')\n",
        "print(\"Model loaded successfully.\")\n",
        "\n",
        "# Make predictions\n",
        "y_pred = loaded_model.predict(X_test)\n",
        "\n",
        "# Evaluate the model\n",
        "accuracy = accuracy_score(y_test, y_pred)\n",
        "print(f\"Model Accuracy: {accuracy:.2f}\")"
      ],
      "metadata": {
        "colab": {
          "base_uri": "https://localhost:8080/"
        },
        "id": "Ri_lGUqnxtJZ",
        "outputId": "09a45325-64e0-4161-8c15-8ab61600930a"
      },
      "execution_count": 20,
      "outputs": [
        {
          "output_type": "stream",
          "name": "stdout",
          "text": [
            "Model saved successfully.\n",
            "Model loaded successfully.\n",
            "Model Accuracy: 0.83\n"
          ]
        }
      ]
    }
  ]
}